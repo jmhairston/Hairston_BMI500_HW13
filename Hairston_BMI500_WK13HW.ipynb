{
 "cells": [
  {
   "cell_type": "markdown",
   "metadata": {},
   "source": [
    "# BMI 500 WK 13: \n",
    "## Edge Computing and Human Activity Analysis\n",
    "<b> JaMor Hairston </b>"
   ]
  },
  {
   "cell_type": "markdown",
   "metadata": {},
   "source": [
    "ATTRIBUTION: Provided example code used - https://google.github.io/mediapipe/solutions/pose.html; ChatGPT 3.5 used for expected functionality verification - output video created a few errors. (XVID much better for writing mp4 file)"
   ]
  },
  {
   "cell_type": "code",
   "execution_count": null,
   "metadata": {},
   "outputs": [],
   "source": [
    "!pip install -q mediapipe"
   ]
  },
  {
   "cell_type": "code",
   "execution_count": null,
   "metadata": {},
   "outputs": [],
   "source": [
    "import mediapipe as mp\n",
    "import cv2"
   ]
  },
  {
   "cell_type": "code",
   "execution_count": null,
   "metadata": {},
   "outputs": [],
   "source": [
    "mp_drawing = mp.solutions.drawing_utils\n",
    "#mp_drawing_styles = mp.solutions.drawing_styles\n",
    "mp_pose = mp.solutions.pose \n",
    "pose = mp_pose.Pose(min_detection_confidence=0.5, min_tracking_confidence=0.5)"
   ]
  },
  {
   "cell_type": "code",
   "execution_count": null,
   "metadata": {},
   "outputs": [],
   "source": [
    "inputvid = cv2.VideoCapture(\"/Users/jmhairston/Desktop/Education/PhD/Fall 2023/BMI 500/HW13Input.mp4\")"
   ]
  },
  {
   "cell_type": "code",
   "execution_count": null,
   "metadata": {},
   "outputs": [],
   "source": [
    "frame_width = int(inputvid.get(3))\n",
    "frame_height = int(inputvid.get(4))\n",
    "fps = int(inputvid.get(5))\n",
    "\n",
    "fourcc = cv2.VideoWriter_fourcc(*'XVID')\n",
    "outputvid = cv2.VideoWriter('HW13Output_pose.mp4', fourcc, fps, (frame_width, frame_height))\n",
    "\n",
    "with mp_pose.Pose(\n",
    "    min_detection_confidence = 0.5,\n",
    "    min_tracking_confidence = 0.5) as pose:\n",
    "    \n",
    "    while True:\n",
    "        success, image = inputvid.read()\n",
    "\n",
    "        if not success:\n",
    "            break\n",
    "\n",
    "        image.flags.writeable = False\n",
    "        image = cv2.cvtColor(image, cv2.COLOR_BGR2RGB) #BGR to RGB conversion\n",
    "        results = pose.process(image) #mp run\n",
    "\n",
    "        image.flags.writeable = True\n",
    "        image = cv2.cvtColor(image, cv2.COLOR_RGB2BGR) #RGB to BGR conversion\n",
    "        mp_drawing.draw_landmarks(image, results.pose_landmarks, mp_pose.POSE_CONNECTIONS)\n",
    "\n",
    "        # output file creation\n",
    "        outputvid.write(image)\n",
    "\n",
    "        if cv2.waitKey(20) == ord('q'):\n",
    "            break\n",
    "inputvid.release()\n",
    "cv2.destroyAllWindows()"
   ]
  }
 ],
 "metadata": {
  "kernelspec": {
   "display_name": "Python 3",
   "language": "python",
   "name": "python3"
  },
  "language_info": {
   "codemirror_mode": {
    "name": "ipython",
    "version": 3
   },
   "file_extension": ".py",
   "mimetype": "text/x-python",
   "name": "python",
   "nbconvert_exporter": "python",
   "pygments_lexer": "ipython3",
   "version": "3.9.12"
  },
  "orig_nbformat": 4
 },
 "nbformat": 4,
 "nbformat_minor": 2
}
